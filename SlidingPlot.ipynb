{
 "cells": [
  {
   "cell_type": "code",
   "execution_count": 2,
   "metadata": {
    "collapsed": true
   },
   "outputs": [],
   "source": [
    "import pandas as pd \n",
    "#pandas is for data structures and data analysis tools\n",
    "import numpy as np\n",
    "#numpy is for scientific computing\n",
    "import matplotlib.pyplot as plt\n",
    "#matplotlib is for plotting"
   ]
  },
  {
   "cell_type": "code",
   "execution_count": 3,
   "metadata": {},
   "outputs": [],
   "source": [
    "data = pd.read_csv('http://opendata.cern.ch/record/545/files/Dimuon_DoubleMu.csv')"
   ]
  },
  {
   "cell_type": "code",
   "execution_count": 4,
   "metadata": {},
   "outputs": [
    {
     "data": {
      "text/html": [
       "<div>\n",
       "<table border=\"1\" class=\"dataframe\">\n",
       "  <thead>\n",
       "    <tr style=\"text-align: right;\">\n",
       "      <th></th>\n",
       "      <th>Run</th>\n",
       "      <th>Event</th>\n",
       "      <th>type1</th>\n",
       "      <th>E1</th>\n",
       "      <th>px1</th>\n",
       "      <th>py1</th>\n",
       "      <th>pz1</th>\n",
       "      <th>pt1</th>\n",
       "      <th>eta1</th>\n",
       "      <th>phi1</th>\n",
       "      <th>...</th>\n",
       "      <th>type2</th>\n",
       "      <th>E2</th>\n",
       "      <th>px2</th>\n",
       "      <th>py2</th>\n",
       "      <th>pz2</th>\n",
       "      <th>pt2</th>\n",
       "      <th>eta2</th>\n",
       "      <th>phi2</th>\n",
       "      <th>Q2</th>\n",
       "      <th>M</th>\n",
       "    </tr>\n",
       "  </thead>\n",
       "  <tbody>\n",
       "    <tr>\n",
       "      <th>0</th>\n",
       "      <td>165617</td>\n",
       "      <td>74601703</td>\n",
       "      <td>G</td>\n",
       "      <td>9.6987</td>\n",
       "      <td>-9.5104</td>\n",
       "      <td>0.3662</td>\n",
       "      <td>1.8633</td>\n",
       "      <td>9.5175</td>\n",
       "      <td>0.1945</td>\n",
       "      <td>3.1031</td>\n",
       "      <td>...</td>\n",
       "      <td>G</td>\n",
       "      <td>9.7633</td>\n",
       "      <td>7.3277</td>\n",
       "      <td>-1.1524</td>\n",
       "      <td>6.3473</td>\n",
       "      <td>7.4178</td>\n",
       "      <td>0.7756</td>\n",
       "      <td>-0.1560</td>\n",
       "      <td>1</td>\n",
       "      <td>17.4922</td>\n",
       "    </tr>\n",
       "    <tr>\n",
       "      <th>1</th>\n",
       "      <td>165617</td>\n",
       "      <td>75100943</td>\n",
       "      <td>G</td>\n",
       "      <td>6.2039</td>\n",
       "      <td>-4.2666</td>\n",
       "      <td>0.4565</td>\n",
       "      <td>-4.4793</td>\n",
       "      <td>4.2910</td>\n",
       "      <td>-0.9121</td>\n",
       "      <td>3.0350</td>\n",
       "      <td>...</td>\n",
       "      <td>G</td>\n",
       "      <td>9.6690</td>\n",
       "      <td>7.2740</td>\n",
       "      <td>-2.8211</td>\n",
       "      <td>-5.7104</td>\n",
       "      <td>7.8019</td>\n",
       "      <td>-0.6786</td>\n",
       "      <td>-0.3700</td>\n",
       "      <td>1</td>\n",
       "      <td>11.5534</td>\n",
       "    </tr>\n",
       "    <tr>\n",
       "      <th>2</th>\n",
       "      <td>165617</td>\n",
       "      <td>75587682</td>\n",
       "      <td>G</td>\n",
       "      <td>19.2892</td>\n",
       "      <td>-4.2121</td>\n",
       "      <td>-0.6516</td>\n",
       "      <td>18.8121</td>\n",
       "      <td>4.2622</td>\n",
       "      <td>2.1905</td>\n",
       "      <td>-2.9881</td>\n",
       "      <td>...</td>\n",
       "      <td>G</td>\n",
       "      <td>9.8244</td>\n",
       "      <td>4.3439</td>\n",
       "      <td>-0.4735</td>\n",
       "      <td>8.7985</td>\n",
       "      <td>4.3697</td>\n",
       "      <td>1.4497</td>\n",
       "      <td>-0.1086</td>\n",
       "      <td>1</td>\n",
       "      <td>9.1636</td>\n",
       "    </tr>\n",
       "    <tr>\n",
       "      <th>3</th>\n",
       "      <td>165617</td>\n",
       "      <td>75660978</td>\n",
       "      <td>G</td>\n",
       "      <td>7.0427</td>\n",
       "      <td>-6.3268</td>\n",
       "      <td>-0.2685</td>\n",
       "      <td>3.0802</td>\n",
       "      <td>6.3325</td>\n",
       "      <td>0.4690</td>\n",
       "      <td>-3.0992</td>\n",
       "      <td>...</td>\n",
       "      <td>G</td>\n",
       "      <td>5.5857</td>\n",
       "      <td>4.4748</td>\n",
       "      <td>0.8489</td>\n",
       "      <td>-3.2319</td>\n",
       "      <td>4.5546</td>\n",
       "      <td>-0.6605</td>\n",
       "      <td>0.1875</td>\n",
       "      <td>1</td>\n",
       "      <td>12.4774</td>\n",
       "    </tr>\n",
       "    <tr>\n",
       "      <th>4</th>\n",
       "      <td>165617</td>\n",
       "      <td>75947690</td>\n",
       "      <td>G</td>\n",
       "      <td>7.2751</td>\n",
       "      <td>0.1030</td>\n",
       "      <td>-5.5331</td>\n",
       "      <td>-4.7212</td>\n",
       "      <td>5.5340</td>\n",
       "      <td>-0.7736</td>\n",
       "      <td>-1.5522</td>\n",
       "      <td>...</td>\n",
       "      <td>G</td>\n",
       "      <td>7.3181</td>\n",
       "      <td>-0.3988</td>\n",
       "      <td>6.9408</td>\n",
       "      <td>2.2825</td>\n",
       "      <td>6.9523</td>\n",
       "      <td>0.3227</td>\n",
       "      <td>1.6282</td>\n",
       "      <td>1</td>\n",
       "      <td>14.3159</td>\n",
       "    </tr>\n",
       "  </tbody>\n",
       "</table>\n",
       "<p>5 rows × 21 columns</p>\n",
       "</div>"
      ],
      "text/plain": [
       "      Run     Event type1       E1     px1     py1      pz1     pt1    eta1  \\\n",
       "0  165617  74601703     G   9.6987 -9.5104  0.3662   1.8633  9.5175  0.1945   \n",
       "1  165617  75100943     G   6.2039 -4.2666  0.4565  -4.4793  4.2910 -0.9121   \n",
       "2  165617  75587682     G  19.2892 -4.2121 -0.6516  18.8121  4.2622  2.1905   \n",
       "3  165617  75660978     G   7.0427 -6.3268 -0.2685   3.0802  6.3325  0.4690   \n",
       "4  165617  75947690     G   7.2751  0.1030 -5.5331  -4.7212  5.5340 -0.7736   \n",
       "\n",
       "     phi1   ...     type2      E2     px2     py2     pz2     pt2    eta2  \\\n",
       "0  3.1031   ...         G  9.7633  7.3277 -1.1524  6.3473  7.4178  0.7756   \n",
       "1  3.0350   ...         G  9.6690  7.2740 -2.8211 -5.7104  7.8019 -0.6786   \n",
       "2 -2.9881   ...         G  9.8244  4.3439 -0.4735  8.7985  4.3697  1.4497   \n",
       "3 -3.0992   ...         G  5.5857  4.4748  0.8489 -3.2319  4.5546 -0.6605   \n",
       "4 -1.5522   ...         G  7.3181 -0.3988  6.9408  2.2825  6.9523  0.3227   \n",
       "\n",
       "     phi2  Q2        M  \n",
       "0 -0.1560   1  17.4922  \n",
       "1 -0.3700   1  11.5534  \n",
       "2 -0.1086   1   9.1636  \n",
       "3  0.1875   1  12.4774  \n",
       "4  1.6282   1  14.3159  \n",
       "\n",
       "[5 rows x 21 columns]"
      ]
     },
     "execution_count": 4,
     "metadata": {},
     "output_type": "execute_result"
    }
   ],
   "source": [
    "data.head()"
   ]
  },
  {
   "cell_type": "code",
   "execution_count": 5,
   "metadata": {},
   "outputs": [
    {
     "data": {
      "image/png": "[encoded data removed]",
      "text/plain": [
       "<matplotlib.figure.Figure at 0x17029514940>"
      ]
     },
     "metadata": {},
     "output_type": "display_data"
    }
   ],
   "source": [
    "plt.hist(data.M, bins=100, range=(0,100))\n",
    "plt.show()"
   ]
  },
  {
   "cell_type": "code",
   "execution_count": 7,
   "metadata": {},
   "outputs": [
    {
     "name": "stdout",
     "output_type": "stream",
     "text": [
      "0.5998319392581536\n",
      "0    0.7707\n",
      "dtype: float64\n",
      "0.17806380520239293\n"
     ]
    },
    {
     "data": {
      "image/png": "[encoded data removed]",
      "text/plain": [
       "<matplotlib.figure.Figure at 0x1702a425d30>"
      ]
     },
     "metadata": {},
     "output_type": "display_data"
    },
    {
     "name": "stdout",
     "output_type": "stream",
     "text": [
      "1.6476098760107796\n",
      "0    1.0082\n",
      "1    1.3321\n",
      "dtype: float64\n",
      "0.46247893331306955\n"
     ]
    },
    {
     "data": {
      "image/png": "[encoded data removed]",
      "text/plain": [
       "<matplotlib.figure.Figure at 0x1702a570b70>"
      ]
     },
     "metadata": {},
     "output_type": "display_data"
    },
    {
     "name": "stdout",
     "output_type": "stream",
     "text": [
      "3.213271981589531\n",
      "0    3.101\n",
      "1    3.112\n",
      "dtype: float64\n",
      "0.4587867903239079\n"
     ]
    },
    {
     "data": {
      "image/png": "[encoded data removed]",
      "text/plain": [
       "<matplotlib.figure.Figure at 0x1702a707780>"
      ]
     },
     "metadata": {},
     "output_type": "display_data"
    },
    {
     "name": "stdout",
     "output_type": "stream",
     "text": [
      "6.530343616109675\n",
      "0    5.3239\n",
      "1    5.6521\n",
      "2    6.7481\n",
      "3    7.5062\n",
      "dtype: float64\n",
      "0.9388383945599731\n"
     ]
    },
    {
     "data": {
      "image/png": "[encoded data removed]",
      "text/plain": [
       "<matplotlib.figure.Figure at 0x17029f57c88>"
      ]
     },
     "metadata": {},
     "output_type": "display_data"
    },
    {
     "name": "stdout",
     "output_type": "stream",
     "text": [
      "10.276617946345938\n",
      "0     9.4295\n",
      "1     9.4666\n",
      "2     9.4685\n",
      "3    10.1015\n",
      "4    10.3905\n",
      "5    10.5019\n",
      "dtype: float64\n",
      "1.0029438627555798\n"
     ]
    },
    {
     "data": {
      "image/png": "[encoded data removed]",
      "text/plain": [
       "<matplotlib.figure.Figure at 0x17029fd60b8>"
      ]
     },
     "metadata": {},
     "output_type": "display_data"
    },
    {
     "name": "stdout",
     "output_type": "stream",
     "text": [
      "14.300134520370513\n",
      "0    12.4094\n",
      "1    12.4311\n",
      "2    12.6977\n",
      "3    13.2465\n",
      "4    13.8468\n",
      "5    14.4631\n",
      "6    14.9236\n",
      "dtype: float64\n",
      "1.3623425866722596\n"
     ]
    },
    {
     "data": {
      "image/png": "[encoded data removed]",
      "text/plain": [
       "<matplotlib.figure.Figure at 0x17029e12a90>"
      ]
     },
     "metadata": {},
     "output_type": "display_data"
    },
    {
     "name": "stdout",
     "output_type": "stream",
     "text": [
      "19.360598739530655\n",
      "0    17.2358\n",
      "1    17.6157\n",
      "2    19.5161\n",
      "dtype: float64\n",
      "1.6017576364351502\n"
     ]
    },
    {
     "data": {
      "image/png": "[encoded data removed]",
      "text/plain": [
       "<matplotlib.figure.Figure at 0x1702a5f5828>"
      ]
     },
     "metadata": {},
     "output_type": "display_data"
    },
    {
     "name": "stdout",
     "output_type": "stream",
     "text": [
      "25.296673991365218\n",
      "0    22.5529\n",
      "1    22.9613\n",
      "2    23.1129\n",
      "3    23.1516\n",
      "4    23.4161\n",
      "5    25.8627\n",
      "6    26.5319\n",
      "7    28.6464\n",
      "dtype: float64\n",
      "1.828518483047107\n"
     ]
    },
    {
     "data": {
      "image/png": "[encoded data removed]",
      "text/plain": [
       "<matplotlib.figure.Figure at 0x17029e90080>"
      ]
     },
     "metadata": {},
     "output_type": "display_data"
    },
    {
     "name": "stdout",
     "output_type": "stream",
     "text": [
      "32.041353566354054\n",
      "0    31.7830\n",
      "1    33.3096\n",
      "dtype: float64\n",
      "2.035913120179754\n"
     ]
    },
    {
     "data": {
      "image/png": "[encoded data removed]",
      "text/plain": [
       "<matplotlib.figure.Figure at 0x1702a671a90>"
      ]
     },
     "metadata": {},
     "output_type": "display_data"
    },
    {
     "name": "stdout",
     "output_type": "stream",
     "text": [
      "39.61201227665708\n",
      "0     36.1285\n",
      "1     37.0842\n",
      "2     37.2149\n",
      "3     37.7462\n",
      "4     38.1484\n",
      "5     38.1711\n",
      "6     38.5233\n",
      "7     39.1262\n",
      "8     39.1316\n",
      "9     39.3854\n",
      "10    39.4154\n",
      "11    39.4394\n",
      "12    40.1100\n",
      "13    40.7106\n",
      "14    41.4829\n",
      "15    41.5522\n",
      "16    42.0962\n",
      "17    42.9651\n",
      "18    43.3360\n",
      "19    43.4923\n",
      "dtype: float64\n",
      "2.3168240515899488\n"
     ]
    },
    {
     "data": {
      "image/png": "[encoded data removed]",
      "text/plain": [
       "<matplotlib.figure.Figure at 0x17029e90ef0>"
      ]
     },
     "metadata": {},
     "output_type": "display_data"
    },
    {
     "name": "stdout",
     "output_type": "stream",
     "text": [
      "47.96924768361579\n",
      "0    44.2801\n",
      "1    44.8422\n",
      "2    44.8562\n",
      "3    46.0441\n",
      "4    47.1331\n",
      "5    48.0999\n",
      "6    48.1177\n",
      "dtype: float64\n",
      "2.496631955292923\n"
     ]
    },
    {
     "data": {
      "image/png": "[encoded data removed]",
      "text/plain": [
       "<matplotlib.figure.Figure at 0x1702a671ac8>"
      ]
     },
     "metadata": {},
     "output_type": "display_data"
    },
    {
     "name": "stdout",
     "output_type": "stream",
     "text": [
      "57.29949958847741\n",
      "0    56.5238\n",
      "dtype: float64\n",
      "2.858158183512455\n"
     ]
    },
    {
     "data": {
      "image/png": "[encoded data removed]",
      "text/plain": [
       "<matplotlib.figure.Figure at 0x17029e7c898>"
      ]
     },
     "metadata": {},
     "output_type": "display_data"
    },
    {
     "name": "stdout",
     "output_type": "stream",
     "text": [
      "67.77236916666665\n",
      "Series([], dtype: float64)\n",
      "2.9654660417004295\n"
     ]
    },
    {
     "data": {
      "image/png": "[encoded data removed]",
      "text/plain": [
       "<matplotlib.figure.Figure at 0x1702a318cc0>"
      ]
     },
     "metadata": {},
     "output_type": "display_data"
    },
    {
     "name": "stdout",
     "output_type": "stream",
     "text": [
      "79.39234906303236\n",
      "0    81.0009\n",
      "dtype: float64\n",
      "3.254128860718657\n"
     ]
    },
    {
     "data": {
      "image/png": "[encoded data removed]",
      "text/plain": [
       "<matplotlib.figure.Figure at 0x1702a27b160>"
      ]
     },
     "metadata": {},
     "output_type": "display_data"
    },
    {
     "name": "stdout",
     "output_type": "stream",
     "text": [
      "90.58127184569477\n",
      "0    90.4446\n",
      "1    91.4823\n",
      "2    91.4923\n",
      "dtype: float64\n",
      "2.3824378655289467\n"
     ]
    },
    {
     "data": {
      "image/png": "[encoded data removed]",
      "text/plain": [
       "<matplotlib.figure.Figure at 0x1702a5f7940>"
      ]
     },
     "metadata": {},
     "output_type": "display_data"
    },
    {
     "name": "stdout",
     "output_type": "stream",
     "text": [
      "100.19030582822086\n",
      "0    96.1606\n",
      "dtype: float64\n",
      "3.478886256357574\n"
     ]
    },
    {
     "data": {
      "image/png": "[encoded data removed]",
      "text/plain": [
       "<matplotlib.figure.Figure at 0x1702a6cceb8>"
      ]
     },
     "metadata": {},
     "output_type": "display_data"
    }
   ],
   "source": [
    "xmin = 0.1\n",
    "for x in range(1, 17, 1):\n",
    "    xmax = xmin + 0.8*x\n",
    "    # made the bin width as a function of the step number (guessestimate + by trial and error)\n",
    "    datainthis = data[(data.M > xmin) & (data.M < xmax )]\n",
    "    mhere = datainthis.M\n",
    "    print(mhere.mean())\n",
    "    print(mhere.mode())\n",
    "    print(mhere.std())\n",
    "#    n, bins = np.histogram(mhere)\n",
    "#    plt.hist(data.M, bins=100, range=(x,x*2+2))\n",
    "    plt.hist(data.M, bins=100, range=(xmin,xmax))\n",
    "    plt.show()\n",
    "    xmin = xmax\n",
    "    # this makes the histogramming areas non-overlapping, the steps could overlap as well"
   ]
  },
  {
   "cell_type": "code",
   "execution_count": 30,
   "metadata": {},
   "outputs": [
    {
     "data": {
      "text/html": [
       "<div>\n",
       "<table border=\"1\" class=\"dataframe\">\n",
       "  <thead>\n",
       "    <tr style=\"text-align: right;\">\n",
       "      <th></th>\n",
       "      <th>Run</th>\n",
       "      <th>Event</th>\n",
       "      <th>type1</th>\n",
       "      <th>E1</th>\n",
       "      <th>px1</th>\n",
       "      <th>py1</th>\n",
       "      <th>pz1</th>\n",
       "      <th>pt1</th>\n",
       "      <th>eta1</th>\n",
       "      <th>phi1</th>\n",
       "      <th>...</th>\n",
       "      <th>type2</th>\n",
       "      <th>E2</th>\n",
       "      <th>px2</th>\n",
       "      <th>py2</th>\n",
       "      <th>pz2</th>\n",
       "      <th>pt2</th>\n",
       "      <th>eta2</th>\n",
       "      <th>phi2</th>\n",
       "      <th>Q2</th>\n",
       "      <th>M</th>\n",
       "    </tr>\n",
       "  </thead>\n",
       "  <tbody>\n",
       "    <tr>\n",
       "      <th>62</th>\n",
       "      <td>165617</td>\n",
       "      <td>75287554</td>\n",
       "      <td>G</td>\n",
       "      <td>10.4060</td>\n",
       "      <td>1.7893</td>\n",
       "      <td>-9.1317</td>\n",
       "      <td>4.6567</td>\n",
       "      <td>9.3053</td>\n",
       "      <td>0.4816</td>\n",
       "      <td>-1.3773</td>\n",
       "      <td>...</td>\n",
       "      <td>G</td>\n",
       "      <td>22.6741</td>\n",
       "      <td>5.2619</td>\n",
       "      <td>-19.0228</td>\n",
       "      <td>11.1601</td>\n",
       "      <td>19.7371</td>\n",
       "      <td>0.5390</td>\n",
       "      <td>-1.3009</td>\n",
       "      <td>1</td>\n",
       "      <td>1.3141</td>\n",
       "    </tr>\n",
       "    <tr>\n",
       "      <th>71</th>\n",
       "      <td>165617</td>\n",
       "      <td>75120873</td>\n",
       "      <td>G</td>\n",
       "      <td>8.7183</td>\n",
       "      <td>0.1229</td>\n",
       "      <td>-8.6798</td>\n",
       "      <td>0.8023</td>\n",
       "      <td>8.6806</td>\n",
       "      <td>0.0923</td>\n",
       "      <td>-1.5566</td>\n",
       "      <td>...</td>\n",
       "      <td>G</td>\n",
       "      <td>16.7628</td>\n",
       "      <td>-1.7075</td>\n",
       "      <td>-16.6723</td>\n",
       "      <td>-0.3129</td>\n",
       "      <td>16.7595</td>\n",
       "      <td>-0.0187</td>\n",
       "      <td>-1.6729</td>\n",
       "      <td>-1</td>\n",
       "      <td>1.9507</td>\n",
       "    </tr>\n",
       "    <tr>\n",
       "      <th>72</th>\n",
       "      <td>165617</td>\n",
       "      <td>75193169</td>\n",
       "      <td>G</td>\n",
       "      <td>19.4923</td>\n",
       "      <td>2.7612</td>\n",
       "      <td>-5.5769</td>\n",
       "      <td>-18.4719</td>\n",
       "      <td>6.2230</td>\n",
       "      <td>-1.8084</td>\n",
       "      <td>-1.1111</td>\n",
       "      <td>...</td>\n",
       "      <td>G</td>\n",
       "      <td>14.9334</td>\n",
       "      <td>1.5525</td>\n",
       "      <td>-6.1254</td>\n",
       "      <td>-13.5302</td>\n",
       "      <td>6.3190</td>\n",
       "      <td>-1.5050</td>\n",
       "      <td>-1.3226</td>\n",
       "      <td>-1</td>\n",
       "      <td>2.3333</td>\n",
       "    </tr>\n",
       "    <tr>\n",
       "      <th>95</th>\n",
       "      <td>165617</td>\n",
       "      <td>74993724</td>\n",
       "      <td>G</td>\n",
       "      <td>15.7639</td>\n",
       "      <td>1.4049</td>\n",
       "      <td>-8.8300</td>\n",
       "      <td>12.9826</td>\n",
       "      <td>8.9410</td>\n",
       "      <td>1.1679</td>\n",
       "      <td>-1.4130</td>\n",
       "      <td>...</td>\n",
       "      <td>G</td>\n",
       "      <td>50.0757</td>\n",
       "      <td>7.6386</td>\n",
       "      <td>-28.0143</td>\n",
       "      <td>40.7973</td>\n",
       "      <td>29.0370</td>\n",
       "      <td>1.1409</td>\n",
       "      <td>-1.3046</td>\n",
       "      <td>1</td>\n",
       "      <td>1.8162</td>\n",
       "    </tr>\n",
       "    <tr>\n",
       "      <th>104</th>\n",
       "      <td>165617</td>\n",
       "      <td>75017052</td>\n",
       "      <td>G</td>\n",
       "      <td>22.5057</td>\n",
       "      <td>5.6296</td>\n",
       "      <td>-9.9497</td>\n",
       "      <td>19.3857</td>\n",
       "      <td>11.4319</td>\n",
       "      <td>1.2987</td>\n",
       "      <td>-1.0559</td>\n",
       "      <td>...</td>\n",
       "      <td>G</td>\n",
       "      <td>30.5709</td>\n",
       "      <td>4.9468</td>\n",
       "      <td>-13.6360</td>\n",
       "      <td>26.9102</td>\n",
       "      <td>14.5055</td>\n",
       "      <td>1.3769</td>\n",
       "      <td>-1.2228</td>\n",
       "      <td>-1</td>\n",
       "      <td>2.3811</td>\n",
       "    </tr>\n",
       "  </tbody>\n",
       "</table>\n",
       "<p>5 rows × 21 columns</p>\n",
       "</div>"
      ],
      "text/plain": [
       "        Run     Event type1       E1     px1     py1      pz1      pt1  \\\n",
       "62   165617  75287554     G  10.4060  1.7893 -9.1317   4.6567   9.3053   \n",
       "71   165617  75120873     G   8.7183  0.1229 -8.6798   0.8023   8.6806   \n",
       "72   165617  75193169     G  19.4923  2.7612 -5.5769 -18.4719   6.2230   \n",
       "95   165617  74993724     G  15.7639  1.4049 -8.8300  12.9826   8.9410   \n",
       "104  165617  75017052     G  22.5057  5.6296 -9.9497  19.3857  11.4319   \n",
       "\n",
       "       eta1    phi1   ...    type2       E2     px2      py2      pz2  \\\n",
       "62   0.4816 -1.3773   ...        G  22.6741  5.2619 -19.0228  11.1601   \n",
       "71   0.0923 -1.5566   ...        G  16.7628 -1.7075 -16.6723  -0.3129   \n",
       "72  -1.8084 -1.1111   ...        G  14.9334  1.5525  -6.1254 -13.5302   \n",
       "95   1.1679 -1.4130   ...        G  50.0757  7.6386 -28.0143  40.7973   \n",
       "104  1.2987 -1.0559   ...        G  30.5709  4.9468 -13.6360  26.9102   \n",
       "\n",
       "         pt2    eta2    phi2  Q2       M  \n",
       "62   19.7371  0.5390 -1.3009   1  1.3141  \n",
       "71   16.7595 -0.0187 -1.6729  -1  1.9507  \n",
       "72    6.3190 -1.5050 -1.3226  -1  2.3333  \n",
       "95   29.0370  1.1409 -1.3046   1  1.8162  \n",
       "104  14.5055  1.3769 -1.2228  -1  2.3811  \n",
       "\n",
       "[5 rows x 21 columns]"
      ]
     },
     "execution_count": 30,
     "metadata": {},
     "output_type": "execute_result"
    }
   ],
   "source": [
    "datainthis.head()"
   ]
  },
  {
   "cell_type": "code",
   "execution_count": null,
   "metadata": {
    "collapsed": true
   },
   "outputs": [],
   "source": [
    "m"
   ]
  }
 ],
 "metadata": {
  "kernelspec": {
   "display_name": "Python 3",
   "language": "python",
   "name": "python3"
  },
  "language_info": {
   "codemirror_mode": {
    "name": "ipython",
    "version": 3
   },
   "file_extension": ".py",
   "mimetype": "text/x-python",
   "name": "python",
   "nbconvert_exporter": "python",
   "pygments_lexer": "ipython3",
   "version": "3.6.0"
  }
 },
 "nbformat": 4,
 "nbformat_minor": 2
}
