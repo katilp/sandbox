{
 "cells": [
  {
   "cell_type": "markdown",
   "metadata": {},
   "source": [
    "## Onnea äitienpäivänä!\n",
    "\n",
    "Tässä taas äitienpäivätervehdys näin ohjelmallisessa muodossa 😊.\n",
    "\n",
    "Kertaukseksi: tällä sivulla on tekstiä - kuten tässä - ja \"koodisoluja\", jotka ovat python-ohjelmointikieltä. Koodisolujen edessä on ```In [ ]:```.\n",
    "Alla esimerkkinä olevassa kuvassa koodisolu ja siinä on näytetty punaisila nuolilla, mistä eri kohdista napauttamalla sen sisältämän koodin voi ajaa (kumpikin käy):\n",
    "\n",
    "<br>\n",
    "<img src=\"https://raw.githubusercontent.com/katilp/sandbox/master/codecell.JPG\",width=400,height=400>\n",
    "<br>\n",
    "\n",
    "Tältä näyttää siis, jos olet avannut linkin tietokoneella (ei kuitenkaan Edge-selaimessa vaan paremminkin Chromessa tai Firefoxissa). Jos avaat linkin puhelimessa, nuoli voi olla hieman eri kohdassa, esimerkiksi solun vasemmalla puolella.\n",
    "\n",
    "Aja nyt kaikki tämän sivun koodisolut järjestyksessä. Valitse siis seuraava solu napauttamalla sitä, siloin sen ympärille tulee laatikko. Aja koodi painamalla nuolta. Sen hetken kun koodi ajaa, solun vasemassa laidassa olevien hakasulkujen väliin tulee ```*```, sitten kun se on valmis, siihen tulee numero."
   ]
  },
  {
   "cell_type": "code",
   "execution_count": null,
   "metadata": {
    "collapsed": true
   },
   "outputs": [],
   "source": [
    "#ladataan ensin muutama kirjasto \n",
    "#- risuaidan jälkeinen teksti koodisoluissa \n",
    "#  on aina kommentirivi eikä vaikuta ajoon\n",
    "import pandas as pd\n",
    "import numpy as np\n",
    "import matplotlib.pyplot as plt"
   ]
  },
  {
   "cell_type": "markdown",
   "metadata": {},
   "source": [
    "Kirjoita seuraavaan tyhjään soluun joku laskutoimitus, vaikka 2.5 + 2. Desimaalipilkku kirjoitetaan aina pisteenä. Aja sitten solu napauttamalla nuolta."
   ]
  },
  {
   "cell_type": "code",
   "execution_count": null,
   "metadata": {},
   "outputs": [],
   "source": []
  },
  {
   "cell_type": "markdown",
   "metadata": {},
   "source": [
    "Onnistuiko? Jos ei, ei haittaa, voit jatkaa koodisolujen ajamista seuraavasta solusta.\n",
    "\n",
    "Lähdetäänpä taas piirtämään kuvaajia. Sehän kävi näin: laitetaan lukuarvot x:lle ja y:lle ja sitten ne piirretään komennolla `plt.plot(x,y)`."
   ]
  },
  {
   "cell_type": "code",
   "execution_count": null,
   "metadata": {},
   "outputs": [],
   "source": [
    "x=[1,1.1,2,2.1]\n",
    "y=[1,3,1,3]\n",
    "#piirretään kuvaaja käyttäen plot-funktiota,\n",
    "#joka tulee yllä ladatusta kirjastosta (plt)\n",
    "plt.plot(x,y) \n",
    "plt.show()"
   ]
  },
  {
   "cell_type": "markdown",
   "metadata": {},
   "source": [
    "Voit myös valita värin itse. Muuta ylläolevassa koodisolua niin, että määrittelet itse värin vaikka vihreäksi. Sen voit tehdä niit että lisäät `plt.plot(x,y)`-komentoon `color='g'`, eli siitä siis tulee `plt.plot(x,y, color='g')`. Paina sitten nuolta ja katso muuttuiko viiva vihreäksi. Toimiko?"
   ]
  },
  {
   "cell_type": "markdown",
   "metadata": {},
   "source": [
    "Kuvaajia voi tehdä erillisistä luvuista kuten yllä tai vaikka matemaattisesta funktiosta:"
   ]
  },
  {
   "cell_type": "code",
   "execution_count": null,
   "metadata": {},
   "outputs": [],
   "source": [
    "#tässä tehdään x-akselin pisteet: \n",
    "# 50 pistettä välille -2 ... 2\n",
    "x1 = np.linspace(-2, 2, 50)\n",
    "\n",
    "#tämä on funktio:\n",
    "def ympyräkaari(o): \n",
    "    return np.sqrt(4- o**2) \n",
    "\n",
    "plt.plot(x1, ympyräkaari(x1))\n",
    "plt.show()\n"
   ]
  },
  {
   "cell_type": "markdown",
   "metadata": {},
   "source": [
    "Viivojen tyyppiä ja paksuutta voi muuttaa. Eri vaihtoehdot esimerkiksi väreille ja muille löytyvät sivulta https://matplotlib.org/3.2.1/api/_as_gen/matplotlib.pyplot.plot.html.\n",
    "\n",
    "Lisäksi värejä voi valita erilaisista värikartoista (\"colour maps\", josta tulee seuraavassa lyhenne cm). Yhden niistä nimi on `rainbow` ja seuraavassa valitaan 30 eri väriä tästä kartasta. Laitetaan värit vaikka listaan nimeltä `värit`. Niitä voi sitten poimia listasta."
   ]
  },
  {
   "cell_type": "code",
   "execution_count": null,
   "metadata": {},
   "outputs": [],
   "source": [
    "n = 30\n",
    "värit = plt.cm.rainbow(np.linspace(0, 1, n))"
   ]
  },
  {
   "cell_type": "markdown",
   "metadata": {},
   "source": [
    "Katsotaan seuraavassa, miten voidaan tehdä vaikka 30 erilaista ympyränkaarta näillä eri väreillä.\n"
   ]
  },
  {
   "cell_type": "code",
   "execution_count": null,
   "metadata": {},
   "outputs": [],
   "source": [
    "# tässä tulee for-toistolause: tämä tekee yllävalitun määrän (eli 30) erilaista ympyränkaarta jokaisen eri väreillä\n",
    "for i in range(n):\n",
    "    plt.plot(x1, i * ympyräkaari(x1), color=värit[i])\n",
    "    \n",
    "plt.show()"
   ]
  },
  {
   "cell_type": "markdown",
   "metadata": {},
   "source": [
    "Kuvia voi laittaa vierekkäin. Silloin määritellää ensin kuinka montaa kuvaa on allekkain tai vierekkäin."
   ]
  },
  {
   "cell_type": "code",
   "execution_count": null,
   "metadata": {},
   "outputs": [],
   "source": [
    "# Laitetaan yhteen riviin 5 kuvaa vierekkäin ja koko kuvan kooksi määritellään leveyttä 15cm ja korkeutta 5cm. \n",
    "fig, ax = plt.subplots(1, 5, figsize=(15,5))\n",
    "\n",
    "########################################################################################\n",
    "#tehdään ensimmäinen kuva kohtaan 1,\n",
    "plt.subplot(1, 5, 1) \n",
    "\n",
    "#tehdään se niinkuin yllä eri väreillä ja monella eri viivalla\n",
    "n = 30\n",
    "for i in range(n):\n",
    "  plt.plot(x1, i * ympyräkaari(x1), color = värit[i]) \n",
    "  plt.plot(x1, -i * ympyräkaari(x1), color = värit[i]) \n",
    "\n",
    "########################################################################################\n",
    "#tehdään toinen kuva kohtaan 2\n",
    "plt.subplot(1, 5, 2) \n",
    "x=[1,1.1,2,2.1]\n",
    "y=[1,3,1,3]\n",
    "plt.plot(x,y, color = 'b', linewidth=6) \n",
    "\n",
    "########################################################################################\n",
    "#tehdäänpä kolmas kuva monella värillä ja viivalle. Siirretään jokaista viivaa ihan vähäsen.\n",
    "#Siinä missä tuossa ylempänä käytettiin ihan yksinkertaista listaa x=[1,1.1,2,2.1], \n",
    "#laitetaan x ja y tällä kertaa numpy-kirjaston listatyyppiin np.array, joiden elementtejä\n",
    "#voi kätevästi muuttaa lisäämällä siihen pikkuisen allaolevassa \"for-lauseessa\".\n",
    "plt.subplot(1, 5, 3)\n",
    "\n",
    "x = np.array([1,1.1,2,2.1])\n",
    "y = np.array([1,3,1,3])\n",
    "n = 30\n",
    "for i in range(n):\n",
    "  x=x + 0.01 \n",
    "  plt.plot(x,y, color = värit[i])\n",
    "\n",
    "########################################################################################3\n",
    "#ja neljä\n",
    "plt.subplot(1, 5, 4)\n",
    "#tehdään ensin nämä\n",
    "xe = np.array([2.1,1.1,1,2])\n",
    "ye = np.array([3,3,1,1])\n",
    "plt.plot(xe,ye, color = 'orange', linewidth=6)\n",
    "#ja sitten keskiviivaa eri väreillä\n",
    "xemid = np.array([1.05,1.95])\n",
    "n = 30\n",
    "yi = 2\n",
    "for i in range(n):\n",
    "  yi = yi + 0.01\n",
    "  yemid=np.array([yi,yi])\n",
    "  plt.plot(xemid,yemid, color = värit[i])\n",
    "\n",
    "\n",
    "\n",
    "########################################################################################\n",
    "plt.subplot(1, 5, 5) #ja sitten viimeinen\n",
    "xa=np.array([1,1.5,2])\n",
    "ya=np.array([1,3,1])\n",
    "n = 30\n",
    "for i in range(n): \n",
    "  xa = xa + 0.01\n",
    "  plt.plot(xa,ya, color=värit[i], linewidth=6) \n",
    "xxa=[1.25,1.75]\n",
    "yya=[2,2]\n",
    "plt.plot(xxa,yya, color='orange', linewidth=6) \n",
    "\n",
    "plt.show()\n"
   ]
  },
  {
   "cell_type": "code",
   "execution_count": null,
   "metadata": {},
   "outputs": [],
   "source": [
    "fig = plt.figure(figsize=(8,8))\n",
    "ax = fig.add_subplot(1,1,1, aspect=1)\n",
    "\n",
    "\n",
    "n = 30\n",
    "for i in range(n):\n",
    "  mys = (n-i) * 120000/n      \n",
    "  ax.scatter([.5],[.5], color=värit[i], s=mys, label=\"face\")\n",
    "\n",
    "ax.scatter([.35, .65], [.63, .63], color='black', s=1000, label=\"eyes\")\n",
    "\n",
    "X = np.linspace(.3, .7, 100)\n",
    "Y = 2* (X-.5)**2 + 0.30\n",
    "\n",
    "\n",
    "ax.plot(X, Y, color='black', linewidth=8, label=\"smile\")\n",
    "\n",
    "ax.set_xlim(0,1)\n",
    "ax.set_ylim(0,1)\n",
    "\n",
    "ax.spines['top'].set_visible(False)\n",
    "ax.spines['right'].set_visible(False)\n",
    "ax.spines['left'].set_visible(False)\n",
    "ax.spines['bottom'].set_visible(False)\n",
    "ax.set_xticks([])\n",
    "ax.set_yticks([])\n",
    "\n",
    "plt.show()"
   ]
  },
  {
   "cell_type": "markdown",
   "metadata": {},
   "source": [
    "Onnittelut! Voit muunnella kaikkia soluja, mikään ei mene rikki ja alkuperäisen sivun voi aina ladata linkistä uudestaan. \n",
    "\n",
    "Käy vaikka muuttamassa ylempänä olevaa värien määrittelyä kohdassa `värit = plt.cm.rainbow(np.linspace(0, 1, n))`niin että värikartan \"rainbow\" sijasta käytät jotain muuta värikarttaa. Niitä on esimerkiksi \"plasma, \"hot\", \"GnBu\" ja lisää löytyy vaikka kuinka monta sivulta https://matplotlib.org/3.1.1/gallery/color/colormap_reference.html.\n",
    "Muista ajaa solu muutettuasi värikartan nimen ja palaa sitten hymynaama-soluun ja aja se uudestaan. Muuttuiko?\n",
    "\n",
    "Jos sivu on auki enemmän kuin 15 minuuttia ilman, että teet sille mitään, yhteys menee poikki. Voit silloinkin sulkea sivun ja avata sen uudestaan."
   ]
  }
 ],
 "metadata": {
  "kernelspec": {
   "display_name": "Python 3",
   "language": "python",
   "name": "python3"
  },
  "language_info": {
   "codemirror_mode": {
    "name": "ipython",
    "version": 3
   },
   "file_extension": ".py",
   "mimetype": "text/x-python",
   "name": "python",
   "nbconvert_exporter": "python",
   "pygments_lexer": "ipython3",
   "version": "3.6.0"
  }
 },
 "nbformat": 4,
 "nbformat_minor": 2
}
