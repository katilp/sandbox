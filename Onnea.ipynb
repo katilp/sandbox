{
 "cells": [
  {
   "cell_type": "markdown",
   "metadata": {},
   "source": [
    "## Aja kaikki \"koodisolut\" valitsemalla se ensin ja painamalla \"run this cell\"-nuolta (tai Shift-Enter tietokoneella)"
   ]
  },
  {
   "cell_type": "code",
   "execution_count": null,
   "metadata": {
    "collapsed": true
   },
   "outputs": [],
   "source": [
    "import pandas as pd\n",
    "import numpy as np\n",
    "import matplotlib.pyplot as plt"
   ]
  },
  {
   "cell_type": "code",
   "execution_count": null,
   "metadata": {},
   "outputs": [],
   "source": [
    "fig, ax = plt.subplots(1, 5, figsize=(15,5))\n",
    "\n",
    "plt.subplot(1, 5, 1)\n",
    "x = np.linspace(-1.0, 1.0, 100)\n",
    "y = np.linspace(-1.0, 1.0, 100)\n",
    "X, Y = np.meshgrid(x,y)\n",
    "F = X**2 + Y**2 - 0.65\n",
    "plt.contour(X,Y,F,[0],linewidths=6)\n",
    "\n",
    "\n",
    "plt.subplot(1,5,2)\n",
    "x=[0.3,0.31,0.4,0.41]\n",
    "y=[0.4,0.6,0.4,0.6]\n",
    "plt.plot(x,y,linewidth=6)\n",
    "\n",
    "\n",
    "plt.subplot(1,5,3)\n",
    "x=[0.3,0.31,0.4,0.41]\n",
    "y=[0.4,0.6,0.4,0.6]\n",
    "plt.plot(x,y, color='r',linewidth=6)\n",
    "\n",
    "plt.subplot(1,5,4)\n",
    "x=[0.3,0.31]\n",
    "y=[0.4,0.6]\n",
    "plt.plot(x,y, color='g',linewidth=6)\n",
    "x1=[0.31,0.41]\n",
    "y1=[0.6,0.6]\n",
    "plt.plot(x1,y1, color='g',linewidth=6)\n",
    "x2=[0.305,0.385]\n",
    "y2=[0.5,0.5]\n",
    "plt.plot(x2,y2, color='g',linewidth=6)\n",
    "x3=[0.3,0.4]\n",
    "y3=[0.4,0.4]\n",
    "plt.plot(x3,y3, color='g',linewidth=6)\n",
    "\n",
    "plt.subplot(1,5,5)\n",
    "x=[0.3,0.35]\n",
    "y=[0.4,0.6]\n",
    "plt.plot(x,y, color='m',linewidth=6)\n",
    "x1=[0.35,0.41]\n",
    "y1=[0.6,0.4]\n",
    "plt.plot(x1,y1, color='m',linewidth=6)\n",
    "x2=[0.325,0.375]\n",
    "y2=[0.5,0.5]\n",
    "plt.plot(x2,y2, color='m',linewidth=6)\n",
    "\n",
    "plt.show()"
   ]
  },
  {
   "cell_type": "code",
   "execution_count": null,
   "metadata": {},
   "outputs": [],
   "source": [
    "def draw_e(color):\n",
    "    x=[0.3,0.31]\n",
    "    y=[0.4,0.6]\n",
    "    plt.plot(x,y, color=color,linewidth=6)\n",
    "    x1=[0.31,0.41]\n",
    "    y1=[0.6,0.6]\n",
    "    plt.plot(x1,y1, color=color,linewidth=6)\n",
    "    x2=[0.305,0.385]\n",
    "    y2=[0.5,0.5]\n",
    "    plt.plot(x2,y2, color=color,linewidth=6)\n",
    "    x3=[0.3,0.4]\n",
    "    y3=[0.4,0.4]\n",
    "    plt.plot(x3,y3, color=color,linewidth=6)\n",
    "\n",
    "def draw_a(color):\n",
    "    x=[0.3,0.35]\n",
    "    y=[0.4,0.6]\n",
    "    plt.plot(x,y, color=color,linewidth=6)\n",
    "    x1=[0.35,0.41]\n",
    "    y1=[0.6,0.4]\n",
    "    plt.plot(x1,y1, color=color,linewidth=6)\n",
    "    x2=[0.325,0.375]\n",
    "    y2=[0.5,0.5]\n",
    "    plt.plot(x2,y2, color=color,linewidth=6)\n",
    "    \n",
    "def draw_n(color):\n",
    "    x=[0.3,0.31,0.4,0.41]\n",
    "    y=[0.4,0.6,0.4,0.6]\n",
    "    plt.plot(x,y, color=color,linewidth=6)\n",
    "    \n",
    "    \n",
    "    "
   ]
  },
  {
   "cell_type": "code",
   "execution_count": null,
   "metadata": {},
   "outputs": [],
   "source": [
    "fig, ax = plt.subplots(1, 5, figsize=(15,5))\n",
    "\n",
    "plt.subplot(1, 5, 1)\n",
    "\n",
    "rr = np.arange(-5, 15, 2)\n",
    "def j(o): \n",
    "    return o**2 \n",
    "plt.plot(rr, j(rr), linewidth=6)\n",
    "\n",
    "\n",
    "plt.subplot(1,5,2)\n",
    "draw_a('b')\n",
    "\n",
    "plt.subplot(1,5,3)\n",
    "draw_n('g')\n",
    "\n",
    "plt.subplot(1,5,4)\n",
    "draw_n('r')\n",
    "\n",
    "plt.subplot(1,5,5)\n",
    "draw_e('m')\n",
    "\n",
    "\n",
    "\n",
    "plt.show()"
   ]
  },
  {
   "cell_type": "code",
   "execution_count": null,
   "metadata": {},
   "outputs": [],
   "source": [
    "fig = plt.figure(figsize=(8,8))\n",
    "ax = fig.add_subplot(1,1,1, aspect=1)\n",
    "\n",
    "ax.scatter([.5],[.5], c='#FFCC00', s=120000, label=\"face\")\n",
    "ax.scatter([.35, .65], [.63, .63], c='k', s=1000, label=\"eyes\")\n",
    "\n",
    "X = np.linspace(.3, .7, 100)\n",
    "Y = 2* (X-.5)**2 + 0.30\n",
    "\n",
    "ax.plot(X, Y, c='k', linewidth=8, label=\"smile\")\n",
    "\n",
    "ax.set_xlim(0,1)\n",
    "ax.set_ylim(0,1)\n",
    "\n",
    "ax.spines['top'].set_visible(False)\n",
    "ax.spines['right'].set_visible(False)\n",
    "ax.spines['left'].set_visible(False)\n",
    "ax.spines['bottom'].set_visible(False)\n",
    "ax.set_xticks([])\n",
    "ax.set_yticks([])\n",
    "\n",
    "plt.show()"
   ]
  },
  {
   "cell_type": "code",
   "execution_count": null,
   "metadata": {
    "collapsed": true
   },
   "outputs": [],
   "source": []
  }
 ],
 "metadata": {
  "kernelspec": {
   "display_name": "Python 3",
   "language": "python",
   "name": "python3"
  },
  "language_info": {
   "codemirror_mode": {
    "name": "ipython",
    "version": 3
   },
   "file_extension": ".py",
   "mimetype": "text/x-python",
   "name": "python",
   "nbconvert_exporter": "python",
   "pygments_lexer": "ipython3",
   "version": "3.6.0"
  }
 },
 "nbformat": 4,
 "nbformat_minor": 2
}
