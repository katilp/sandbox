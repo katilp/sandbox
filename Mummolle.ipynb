{
 "cells": [
  {
   "cell_type": "markdown",
   "metadata": {},
   "source": [
    "## Onnea äitienpäivänä!\n",
    "\n",
    "Tässä äitienpäivätervehdys näin ohjelmallisessa muodossa 😊.\n",
    "\n",
    "Tällä sivulla on tekstiä - kuten tässä - ja \"koodisoluja\", jotka ovat python-ohjelmointikieltä. Koodisolujen edessä on ```In [ ]:```.\n",
    "Alla esimerkkinä olevassa kuvassa koodisolu on ympäröity punaisella ja sen voi ajaa ensin valitsemalla solun napauttamalla ja painamalla sitten nuolta, johon sininen nuoli alla olevassa esimerkkikuvassa osoittaa:\n",
    "\n",
    "<img src=\"https://raw.githubusercontent.com/katilp/sandbox/master/binder_on_phone2.JPG\",width=400,height=400>\n",
    "\n",
    "Tältä näyttää siis, jos olet avannut linkin puhelimella. Linkin voi avata myös tietokoneella (ei kuitenkaan Edge-selaimessa vaan paremminkin Chromessa tai Firefoxissa). Nuoli voi olla silloin hieman eri kohdassa, esimerkiksi solun vasemmalla puolella.\n",
    "\n",
    "Aja nyt kaikki tämän sivun koodisolut järjestyksessä. Valitse siis seuraava solu napauttamalla sitä ja paina nuolta. Sen hetken kun koodi ajaa, solun vasemassa laidassa olevien hakasulkujen väliin tulee ```*```, sitten kun se on valmis, siihen tulee numero."
   ]
  },
  {
   "cell_type": "code",
   "execution_count": null,
   "metadata": {
    "collapsed": true
   },
   "outputs": [],
   "source": [
    "#ladataan ensin muutama kirjasto - risuaidan jälkeinen teksti koodisoluissa on aina kommenteja eikä vaikuta ajoon\n",
    "import pandas as pd\n",
    "import numpy as np\n",
    "import matplotlib.pyplot as plt"
   ]
  },
  {
   "cell_type": "markdown",
   "metadata": {},
   "source": [
    "Kirjoita seuraavaan tyhjään soluun joku laskutoimitus, vaikka 2 + 2. Puhelinta saattaa joutua kääntämään, jotta saa kirjoitettua. Aja sitten solu napauttamalla nuolta."
   ]
  },
  {
   "cell_type": "code",
   "execution_count": null,
   "metadata": {},
   "outputs": [],
   "source": []
  },
  {
   "cell_type": "markdown",
   "metadata": {},
   "source": [
    "Onnistuiko? Jos ei, ei haittaa, voit jatkaa koodisolujen ajamista seuraavasta solusta.\n",
    "\n",
    "Tässä voi vaikka piirtää kuvaajia:"
   ]
  },
  {
   "cell_type": "code",
   "execution_count": null,
   "metadata": {},
   "outputs": [],
   "source": [
    "x=[1,1.1,2,2.1]\n",
    "y=[1,3,1,3]\n",
    "plt.plot(x,y) #piirretään kuvaaja käyttäen plot-funktiota, joka tulee yllä ladatusta kirjastosta (plt)\n",
    "plt.show()"
   ]
  },
  {
   "cell_type": "markdown",
   "metadata": {},
   "source": [
    "Samaan kuvaan voi piirtää useampia kuvaajia, silloin eri kuvaajat tulevat automaattisesti eri väreillä. Värin voi myös valita itse:"
   ]
  },
  {
   "cell_type": "code",
   "execution_count": null,
   "metadata": {},
   "outputs": [],
   "source": [
    "xx=[1,1.1,2.1]\n",
    "yy=[1,3,3]\n",
    "plt.plot(xx,yy) #piirretään ensimmäinen kuvaaja\n",
    "xx2=[1.05,1.85]\n",
    "yy2=[2,2]\n",
    "plt.plot(xx2,yy2) #piirretään toineen kuvaaja samaan kuvaan, se tulee automaattisesti toisella värillä\n",
    "xx3=[1,2]\n",
    "yy3=[1,1]\n",
    "plt.plot(xx3,yy3, color='g') #ja vielä kolmas, piirretään se vihreänä (color='g')\n",
    "plt.show()"
   ]
  },
  {
   "cell_type": "markdown",
   "metadata": {},
   "source": [
    "Kuvaajia voi tehdä erillisistä luvuista kuten yllä tai vaikka matemaattisesta funktiosta:"
   ]
  },
  {
   "cell_type": "code",
   "execution_count": null,
   "metadata": {},
   "outputs": [],
   "source": [
    "x1 = np.linspace(-2, 2, 50) #tässä tehdään x-akselin pisteet: 50 pistettä välille -2 ... 2\n",
    "def ympyräkaari(o): \n",
    "    return np.sqrt(4- o**2)   #tämä on funktio\n",
    "plt.plot(x1, ympyräkaari(x1))\n",
    "plt.show()\n"
   ]
  },
  {
   "cell_type": "markdown",
   "metadata": {},
   "source": [
    " Viivojen tyyppiä ja paksuutta voi muuttaa:"
   ]
  },
  {
   "cell_type": "code",
   "execution_count": null,
   "metadata": {},
   "outputs": [],
   "source": [
    "#käytetään nyt tuossa aiemmassa solussa määritettyjä x1:ä ja ympyräkaari-funktiota\n",
    "plt.plot(x1, ympyräkaari(x1), linewidth=3) \n",
    "plt.plot(x1, -ympyräkaari(x1),linewidth=6)\n",
    "\n",
    "plt.show()"
   ]
  },
  {
   "cell_type": "markdown",
   "metadata": {},
   "source": [
    "Eri vaihtoehdot esimerkiksi väreille ja muille löytyvät sivulta https://matplotlib.org/2.1.1/api/_as_gen/matplotlib.pyplot.plot.html "
   ]
  },
  {
   "cell_type": "markdown",
   "metadata": {},
   "source": [
    "Kuvia voi laittaa vierekkäin. Silloin määritellää ensin kuinka montaa kuvaa on allekkain tai vierekkäin."
   ]
  },
  {
   "cell_type": "code",
   "execution_count": null,
   "metadata": {},
   "outputs": [],
   "source": [
    "#Määritellään kuva (5 kuvaa vierekkäin yhdessä rivissä) ja sen koko\n",
    "fig, ax = plt.subplots(1, 5, figsize=(15,5))\n",
    "\n",
    "plt.subplot(1, 5, 1) #tehdään ensimmäinen kuva kohtaan 1, laitetaan ne molemmat punaisella (color = 'r')\n",
    "\n",
    "plt.plot(x1, ympyräkaari(x1), color = 'r',linewidth=6)  \n",
    "plt.plot(x1, -ympyräkaari(x1),color = 'r', linewidth=6)\n",
    "\n",
    "plt.subplot(1, 5, 2) #tehdään toinen kuva kohtaan 2\n",
    "x=[1,1.1,2,2.1]\n",
    "y=[1,3,1,3]\n",
    "plt.plot(x,y, color = 'b', linewidth=6) \n",
    "\n",
    "plt.subplot(1, 5, 3) #kolmas kuva kohtaan 3\n",
    "plt.plot(x,y, color = 'g', linewidth=6)\n",
    "\n",
    "plt.subplot(1, 5, 4) #ja neljäs, käytetää aiemmin määritettyjä xx,yy, xx2, yy2, xx3 ja yy3 arvoja\n",
    "plt.plot(xx,yy, color = 'm', linewidth=6)\n",
    "plt.plot(xx2,yy2, color = 'm', linewidth=6)\n",
    "plt.plot(xx3,yy3, color = 'm', linewidth=6)\n",
    "\n",
    "plt.subplot(1, 5, 5) #ja sitten viimeinen\n",
    "xa=[1,1.5,2]\n",
    "ya=[1,3,1]\n",
    "plt.plot(xa,ya, color='orange', linewidth=6) \n",
    "xxa=[1.25,1.75]\n",
    "yya=[2,2]\n",
    "plt.plot(xxa,yya, color='orange', linewidth=6) \n",
    "\n",
    "plt.show()\n"
   ]
  },
  {
   "cell_type": "code",
   "execution_count": null,
   "metadata": {},
   "outputs": [],
   "source": [
    "fig = plt.figure(figsize=(8,8))\n",
    "ax = fig.add_subplot(1,1,1, aspect=1)\n",
    "\n",
    "ax.scatter([.5],[.5], color='yellow', s=120000, label=\"face\")\n",
    "ax.scatter([.35, .65], [.63, .63], color='black', s=1000, label=\"eyes\")\n",
    "\n",
    "X = np.linspace(.3, .7, 100)\n",
    "Y = 2* (X-.5)**2 + 0.30\n",
    "\n",
    "\n",
    "ax.plot(X, Y, color='black', linewidth=8, label=\"smile\")\n",
    "\n",
    "ax.set_xlim(0,1)\n",
    "ax.set_ylim(0,1)\n",
    "\n",
    "ax.spines['top'].set_visible(False)\n",
    "ax.spines['right'].set_visible(False)\n",
    "ax.spines['left'].set_visible(False)\n",
    "ax.spines['bottom'].set_visible(False)\n",
    "ax.set_xticks([])\n",
    "ax.set_yticks([])\n",
    "\n",
    "plt.show()"
   ]
  },
  {
   "cell_type": "markdown",
   "metadata": {},
   "source": [
    "Onnittelut! Voit muunnella kaikkia soluja, mikään ei mene rikki ja alkuperäisen sivun voi aina ladata linkistä uudestaan. Jos sivu on auki enemmän kuin 15 minuuttia ilman, että teet sille mitään, yhteys menee poikki. Voit silloinkin sulkea sivun ja avata sen uudestaan."
   ]
  }
 ],
 "metadata": {
  "kernelspec": {
   "display_name": "Python 3",
   "language": "python",
   "name": "python3"
  },
  "language_info": {
   "codemirror_mode": {
    "name": "ipython",
    "version": 3
   },
   "file_extension": ".py",
   "mimetype": "text/x-python",
   "name": "python",
   "nbconvert_exporter": "python",
   "pygments_lexer": "ipython3",
   "version": "3.6.0"
  }
 },
 "nbformat": 4,
 "nbformat_minor": 2
}
